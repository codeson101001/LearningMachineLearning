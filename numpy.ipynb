{
  "nbformat": 4,
  "nbformat_minor": 0,
  "metadata": {
    "colab": {
      "name": "numpy.ipynb",
      "provenance": [],
      "collapsed_sections": [],
      "authorship_tag": "ABX9TyPCY6ImWHJb+puV2flBgazo",
      "include_colab_link": true
    },
    "kernelspec": {
      "name": "python3",
      "display_name": "Python 3"
    }
  },
  "cells": [
    {
      "cell_type": "markdown",
      "metadata": {
        "id": "view-in-github",
        "colab_type": "text"
      },
      "source": [
        "<a href=\"https://colab.research.google.com/github/codeson101001/Machine-Learning-Projects/blob/master/numpy.ipynb\" target=\"_parent\"><img src=\"https://colab.research.google.com/assets/colab-badge.svg\" alt=\"Open In Colab\"/></a>"
      ]
    },
    {
      "cell_type": "code",
      "metadata": {
        "id": "1MiU7hIFE8Ce",
        "colab_type": "code",
        "colab": {}
      },
      "source": [
        "#Numpy supports large multi dimensional arrays and matrixs\n",
        "#Numpy arrays are space and time effiecnet\n",
        "#In Python we have lists that serve the purpose of arrays, but they are slow to process.\n",
        "#NumPy aims to provide an array object that is faster that traditional Python lists.\n",
        "#Github Repository: https://github.com/numpy/numpy\n"
      ],
      "execution_count": 1,
      "outputs": []
    },
    {
      "cell_type": "code",
      "metadata": {
        "id": "6wwKrILHLkdo",
        "colab_type": "code",
        "colab": {
          "base_uri": "https://localhost:8080/",
          "height": 36
        },
        "outputId": "9da6166d-c440-4621-8edc-835a68c9e716"
      },
      "source": [
        "import numpy as np \n",
        "print(np.__version__)"
      ],
      "execution_count": 2,
      "outputs": [
        {
          "output_type": "stream",
          "text": [
            "1.18.5\n"
          ],
          "name": "stdout"
        }
      ]
    },
    {
      "cell_type": "code",
      "metadata": {
        "id": "7DQnYEa0L5N-",
        "colab_type": "code",
        "colab": {
          "base_uri": "https://localhost:8080/",
          "height": 55
        },
        "outputId": "bfa3aad7-ef21-4fd0-96b3-d6232c2c6c76"
      },
      "source": [
        "#Create arrays in numpy\n",
        "#NumPy is used to work with arrays\n",
        "arr = np.array([1, 2, 3, 4, 5])\n",
        "print(arr)\n",
        "print(type(arr))"
      ],
      "execution_count": 3,
      "outputs": [
        {
          "output_type": "stream",
          "text": [
            "[1 2 3 4 5]\n",
            "<class 'numpy.ndarray'>\n"
          ],
          "name": "stdout"
        }
      ]
    },
    {
      "cell_type": "code",
      "metadata": {
        "id": "zVkUa1lGMKYP",
        "colab_type": "code",
        "colab": {
          "base_uri": "https://localhost:8080/",
          "height": 261
        },
        "outputId": "146eb5dc-1432-464c-d0bc-e0fd78fa0ba1"
      },
      "source": [
        "#Different dimesion arrays\n",
        "#0-D\n",
        "arr = np.array(42)\n",
        "print(arr,'\\n')\n",
        "#1-D\n",
        "arr = np.array([1, 2, 3, 4, 5])\n",
        "print(arr,'\\n')\n",
        "#2-D\n",
        "arr = np.array([[1, 2, 3], [4, 5, 6]])\n",
        "print(arr,'\\n') \n",
        "#3-D- An array that has 2-D arrays (matrices) as its elements is called 3-D array.\n",
        "arr = np.array([[[1, 2, 3], [4, 5, 6]], [[1, 2, 3], [4, 5, 6]]])\n",
        "print(arr,'\\n') \n",
        "\n"
      ],
      "execution_count": 4,
      "outputs": [
        {
          "output_type": "stream",
          "text": [
            "42 \n",
            "\n",
            "[1 2 3 4 5] \n",
            "\n",
            "[[1 2 3]\n",
            " [4 5 6]] \n",
            "\n",
            "[[[1 2 3]\n",
            "  [4 5 6]]\n",
            "\n",
            " [[1 2 3]\n",
            "  [4 5 6]]] \n",
            "\n"
          ],
          "name": "stdout"
        }
      ]
    },
    {
      "cell_type": "code",
      "metadata": {
        "id": "yzNihGXXOCru",
        "colab_type": "code",
        "colab": {
          "base_uri": "https://localhost:8080/",
          "height": 91
        },
        "outputId": "6d8d55f8-ffd4-4d29-a807-a6c0205c6c0e"
      },
      "source": [
        "#Check the number of dimesions for your numpy array\n",
        "a = np.array(42)\n",
        "b = np.array([1, 2, 3, 4, 5])\n",
        "c = np.array([[1, 2, 3], [4, 5, 6]])\n",
        "d = np.array([[[1, 2, 3], [4, 5, 6]], [[1, 2, 3], [4, 5, 6]]])\n",
        "\n",
        "print(a.ndim)\n",
        "print(b.ndim)\n",
        "print(c.ndim)\n",
        "print(d.ndim) "
      ],
      "execution_count": null,
      "outputs": [
        {
          "output_type": "stream",
          "text": [
            "0\n",
            "1\n",
            "2\n",
            "3\n"
          ],
          "name": "stdout"
        }
      ]
    },
    {
      "cell_type": "code",
      "metadata": {
        "id": "_TxtzCKOPwuG",
        "colab_type": "code",
        "colab": {
          "base_uri": "https://localhost:8080/",
          "height": 54
        },
        "outputId": "60243568-1c11-44be-e3f9-238338bf1f0b"
      },
      "source": [
        "#Here we create a array with 5 dimensions, and verify that it has 5 dimensions\n",
        "arr = np.array([1, 2, 3, 4], ndmin=5)\n",
        "print(arr)\n",
        "print('number of dimensions :', arr.ndim) "
      ],
      "execution_count": null,
      "outputs": [
        {
          "output_type": "stream",
          "text": [
            "[[[[[1 2 3 4]]]]]\n",
            "number of dimensions : 5\n"
          ],
          "name": "stdout"
        }
      ]
    },
    {
      "cell_type": "code",
      "metadata": {
        "id": "ouAzS1ZiYSWt",
        "colab_type": "code",
        "colab": {
          "base_uri": "https://localhost:8080/",
          "height": 35
        },
        "outputId": "a6677490-b4b0-4aff-cd6b-7400b0084437"
      },
      "source": [
        "#Access Array Elements\n",
        "#Array indexing is the same as accessing an array element\n",
        "arr = np.array([1, 2, 3, 4])\n",
        "print(arr[0]) "
      ],
      "execution_count": null,
      "outputs": [
        {
          "output_type": "stream",
          "text": [
            "1\n"
          ],
          "name": "stdout"
        }
      ]
    },
    {
      "cell_type": "code",
      "metadata": {
        "id": "q9U05-udYdU9",
        "colab_type": "code",
        "colab": {
          "base_uri": "https://localhost:8080/",
          "height": 35
        },
        "outputId": "cb6507ca-060f-43b0-fcef-749c1f1151e7"
      },
      "source": [
        "arr = np.array([1, 2, 3, 4])\n",
        "print(arr[2] + arr[3]) "
      ],
      "execution_count": null,
      "outputs": [
        {
          "output_type": "stream",
          "text": [
            "7\n"
          ],
          "name": "stdout"
        }
      ]
    },
    {
      "cell_type": "code",
      "metadata": {
        "id": "W6ZBmsfuYg_C",
        "colab_type": "code",
        "colab": {
          "base_uri": "https://localhost:8080/",
          "height": 35
        },
        "outputId": "f0c95556-938e-4eb3-8160-8ea9f1c36051"
      },
      "source": [
        "#Access 2-D Arrays\n",
        "arr = np.array([[1,2,3,4,5], [6,7,8,9,10]])\n",
        "print('2nd element in the 1st dim: ', arr[0, 1]) "
      ],
      "execution_count": null,
      "outputs": [
        {
          "output_type": "stream",
          "text": [
            "2nd element on 1st dim:  2\n"
          ],
          "name": "stdout"
        }
      ]
    },
    {
      "cell_type": "code",
      "metadata": {
        "id": "2UljmuycYqqK",
        "colab_type": "code",
        "colab": {
          "base_uri": "https://localhost:8080/",
          "height": 36
        },
        "outputId": "28940b40-063f-4e22-c4d9-a4470d30aa51"
      },
      "source": [
        "arr = np.array([[1,2,3,4,5], [6,7,8,9,10]])\n",
        "print('5th element on 2nd dim: ', arr[1, 4]) "
      ],
      "execution_count": 5,
      "outputs": [
        {
          "output_type": "stream",
          "text": [
            "5th element on 2nd dim:  10\n"
          ],
          "name": "stdout"
        }
      ]
    },
    {
      "cell_type": "code",
      "metadata": {
        "id": "wHamMmyEYxGV",
        "colab_type": "code",
        "colab": {
          "base_uri": "https://localhost:8080/",
          "height": 35
        },
        "outputId": "1060458c-f041-4559-efa1-3d359c69f875"
      },
      "source": [
        "#Access 3-D Arrays\n",
        "#Access the third element of the second array of the first array:\n",
        "arr = np.array([[[1, 2, 3], [4, 5, 6]], [[7, 8, 9], [10, 11, 12]]])\n",
        "print(arr[0, 1, 2]) "
      ],
      "execution_count": null,
      "outputs": [
        {
          "output_type": "stream",
          "text": [
            "6\n"
          ],
          "name": "stdout"
        }
      ]
    },
    {
      "cell_type": "markdown",
      "metadata": {
        "id": "293Pre24ZQDg",
        "colab_type": "text"
      },
      "source": [
        "arr[0, 1, 2] prints the value 6.\n",
        "\n",
        "And this is why:\n",
        "\n",
        "The first number represents the first dimension, which contains two arrays:\n",
        "[[1, 2, 3], [4, 5, 6]]\n",
        "and:\n",
        "[[7, 8, 9], [10, 11, 12]]\n",
        "Since we selected 0, we are left with the first array:\n",
        "[[1, 2, 3], [4, 5, 6]]\n",
        "\n",
        "The second number represents the second dimension, which also contains two arrays:\n",
        "[1, 2, 3]\n",
        "and:\n",
        "[4, 5, 6]\n",
        "Since we selected 1, we are left with the second array:\n",
        "[4, 5, 6]\n",
        "\n",
        "The third number represents the third dimension, which contains three values:\n",
        "4\n",
        "5\n",
        "6\n",
        "Since we selected 2, we end up with the third value:\n",
        "6\n"
      ]
    },
    {
      "cell_type": "code",
      "metadata": {
        "id": "mi1NbrjbZR3Y",
        "colab_type": "code",
        "colab": {
          "base_uri": "https://localhost:8080/",
          "height": 36
        },
        "outputId": "5ece7a41-4132-473b-b254-5eaaa6c0b3dd"
      },
      "source": [
        "#Negative Indexing\n",
        "#Use negative indexing to access an array from the end.\n",
        "arr = np.array([[1,2,3,4,5], [6,7,8,9,10]])\n",
        "print('Last element from 2nd dim: ', arr[1, -1]) "
      ],
      "execution_count": 6,
      "outputs": [
        {
          "output_type": "stream",
          "text": [
            "Last element from 2nd dim:  10\n"
          ],
          "name": "stdout"
        }
      ]
    },
    {
      "cell_type": "code",
      "metadata": {
        "id": "zxpfjh9SdRnd",
        "colab_type": "code",
        "colab": {
          "base_uri": "https://localhost:8080/",
          "height": 36
        },
        "outputId": "85ae99cd-9f72-4c5a-b916-04bca2f64ab4"
      },
      "source": [
        "#NumPy Array Slicing\n",
        "#Slicing in python means taking elements from one given index to another given index.\n",
        "#We pass slice instead of index like this: [start:end].\n",
        "#We can also define the step, like this: [start:end:step].\n",
        "arr = np.array([1, 2, 3, 4, 5, 6, 7])\n",
        "print(arr[1:5]) "
      ],
      "execution_count": 7,
      "outputs": [
        {
          "output_type": "stream",
          "text": [
            "[2 3 4 5]\n"
          ],
          "name": "stdout"
        }
      ]
    },
    {
      "cell_type": "code",
      "metadata": {
        "id": "TH5MDGukdiuJ",
        "colab_type": "code",
        "colab": {
          "base_uri": "https://localhost:8080/",
          "height": 36
        },
        "outputId": "1f36f1d1-35e2-4026-a3d2-762325598bce"
      },
      "source": [
        "arr = np.array([1, 2, 3, 4, 5, 6, 7])\n",
        "print(arr[4:]) "
      ],
      "execution_count": 8,
      "outputs": [
        {
          "output_type": "stream",
          "text": [
            "[5 6 7]\n"
          ],
          "name": "stdout"
        }
      ]
    },
    {
      "cell_type": "code",
      "metadata": {
        "id": "gciLsuW9dxLT",
        "colab_type": "code",
        "colab": {
          "base_uri": "https://localhost:8080/",
          "height": 36
        },
        "outputId": "63da72a9-36c4-491a-91c0-4cf3122652a6"
      },
      "source": [
        "arr = np.array([1, 2, 3, 4, 5, 6, 7])\n",
        "print(arr[:4]) "
      ],
      "execution_count": 9,
      "outputs": [
        {
          "output_type": "stream",
          "text": [
            "[1 2 3 4]\n"
          ],
          "name": "stdout"
        }
      ]
    },
    {
      "cell_type": "code",
      "metadata": {
        "id": "762K4aJCd2Wo",
        "colab_type": "code",
        "colab": {
          "base_uri": "https://localhost:8080/",
          "height": 36
        },
        "outputId": "9e475c52-c6af-400c-e532-c3aae38ee33a"
      },
      "source": [
        "#Negative Slicing\n",
        "#Use the minus operator to refer to an index from the end:\n",
        "arr = np.array([1, 2, 3, 4, 5, 6, 7])\n",
        "print(arr[-3:-1]) "
      ],
      "execution_count": 10,
      "outputs": [
        {
          "output_type": "stream",
          "text": [
            "[5 6]\n"
          ],
          "name": "stdout"
        }
      ]
    },
    {
      "cell_type": "code",
      "metadata": {
        "id": "NbU8SFQIeP7a",
        "colab_type": "code",
        "colab": {
          "base_uri": "https://localhost:8080/",
          "height": 36
        },
        "outputId": "bc1a6ede-f14c-4fd9-f582-2fd5ffa7b2c8"
      },
      "source": [
        "#STEP\n",
        "#Use the step value to determine the step of the slicing:\n",
        "arr = np.array([1, 2, 3, 4, 5, 6, 7])\n",
        "#From [1,5) print every 2nd number \n",
        "print(arr[1:5:2]) "
      ],
      "execution_count": 15,
      "outputs": [
        {
          "output_type": "stream",
          "text": [
            "[2 4]\n"
          ],
          "name": "stdout"
        }
      ]
    },
    {
      "cell_type": "code",
      "metadata": {
        "id": "GyRhv61IeyZ4",
        "colab_type": "code",
        "colab": {
          "base_uri": "https://localhost:8080/",
          "height": 36
        },
        "outputId": "b4887550-b7a4-46c8-f500-70662227120f"
      },
      "source": [
        "#Prints out every odd number in th enumpy list\n",
        "arr = np.array([1, 2, 3, 4, 5, 6, 7])\n",
        "print(arr[::2])"
      ],
      "execution_count": 16,
      "outputs": [
        {
          "output_type": "stream",
          "text": [
            "[1 3 5 7]\n"
          ],
          "name": "stdout"
        }
      ]
    },
    {
      "cell_type": "code",
      "metadata": {
        "id": "Y7fnwJ2hibAK",
        "colab_type": "code",
        "colab": {
          "base_uri": "https://localhost:8080/",
          "height": 36
        },
        "outputId": "71f99c2e-217e-47d3-ecbf-f6af008818c1"
      },
      "source": [
        "#Slicing 2-D Arrays\n",
        "#Looking at the second array, print from index [7,10)\n",
        "arr = np.array([[1, 2, 3, 4, 5], [6, 7, 8, 9, 10]])\n",
        "print(arr[1, 1:4]) "
      ],
      "execution_count": 17,
      "outputs": [
        {
          "output_type": "stream",
          "text": [
            "[7 8 9]\n"
          ],
          "name": "stdout"
        }
      ]
    }
  ]
}