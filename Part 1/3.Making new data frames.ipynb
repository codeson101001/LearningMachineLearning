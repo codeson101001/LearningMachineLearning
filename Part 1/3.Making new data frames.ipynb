{
 "cells": [
  {
   "cell_type": "code",
   "execution_count": 20,
   "metadata": {
    "collapsed": true
   },
   "outputs": [],
   "source": [
    "#In this Jupyter Notebook, you will practice the following codes to create new features/columns in a DataFrame\n",
    "#1. Create new columns in the DataFrame by arithmetic calculation - Price Difference and Daily Return\n",
    "#2. Create a new column using List Comprehension - Direction\n",
    "#3. Create a new column using Rolling Window Calculation - Any days of Moving Average\n",
    "\n",
    "import pandas as pd\n",
    "import matplotlib.pyplot as plt\n",
    "import yfinance as yf\n",
    "%matplotlib inline"
   ]
  },
  {
   "cell_type": "code",
   "execution_count": 21,
   "metadata": {
    "collapsed": true,
    "tags": []
   },
   "outputs": [
    {
     "output_type": "stream",
     "name": "stdout",
     "text": "[*********************100%***********************]  1 of 1 completed\n[*********************100%***********************]  1 of 1 completed\n"
    }
   ],
   "source": [
    "fb = yf.download(tickers = \"FB\", period = \"1d\", interval = \"1m\")\n",
    "ms = yf.download(tickers = \"MSFT\", period = \"1d\", interval = \"1m\")"
   ]
  },
  {
   "cell_type": "markdown",
   "metadata": {},
   "source": [
    "## Create a new column in the DataFrame (1) - Price difference"
   ]
  },
  {
   "cell_type": "code",
   "execution_count": 23,
   "metadata": {
    "collapsed": true
   },
   "outputs": [],
   "source": [
    "#Create a new column PriceDiff in the DataFrame fb\n",
    "fb['PriceDiff'] = fb['Close'].shift(-1) - fb['Close']"
   ]
  },
  {
   "cell_type": "code",
   "execution_count": 25,
   "metadata": {
    "collapsed": true
   },
   "outputs": [],
   "source": [
    "#Your turn to create PriceDiff in the DataFrame ms\n",
    "ms['PriceDiff'] = ms['Close'].shift(-1) - ms['Close']"
   ]
  },
  {
   "cell_type": "code",
   "execution_count": 27,
   "metadata": {
    "tags": []
   },
   "outputs": [
    {
     "output_type": "stream",
     "name": "stdout",
     "text": "Datetime\n2020-08-31 09:30:00-04:00    0.514999\n2020-08-31 09:31:00-04:00    0.087799\n2020-08-31 09:32:00-04:00    0.653198\n2020-08-31 09:33:00-04:00   -0.600998\n2020-08-31 09:34:00-04:00   -0.360001\n2020-08-31 09:35:00-04:00    0.228394\n2020-08-31 09:36:00-04:00    0.379807\n2020-08-31 09:37:00-04:00    0.136795\n2020-08-31 09:38:00-04:00   -0.184998\n2020-08-31 09:39:00-04:00    0.559998\n2020-08-31 09:40:00-04:00    0.290009\n2020-08-31 09:41:00-04:00   -0.589996\n2020-08-31 09:42:00-04:00   -0.240005\n2020-08-31 09:43:00-04:00    0.261993\n2020-08-31 09:44:00-04:00   -0.031998\n2020-08-31 09:45:00-04:00   -0.360001\n2020-08-31 09:46:00-04:00    0.130005\n2020-08-31 09:47:00-04:00   -0.070007\n2020-08-31 09:48:00-04:00    0.440002\n2020-08-31 09:49:00-04:00   -0.679993\n2020-08-31 09:50:00-04:00    0.269989\n2020-08-31 09:51:00-04:00   -0.144989\n2020-08-31 09:52:00-04:00   -0.085007\n2020-08-31 09:53:00-04:00   -0.107498\n2020-08-31 09:54:00-04:00   -0.097504\n2020-08-31 09:55:00-04:00   -0.034988\n2020-08-31 09:56:00-04:00   -0.030014\n2020-08-31 09:57:00-04:00   -0.019989\n2020-08-31 09:58:00-04:00    0.209991\n2020-08-31 09:59:00-04:00    0.335007\n                               ...   \n2020-08-31 13:32:00-04:00    0.059998\n2020-08-31 13:33:00-04:00   -0.104996\n2020-08-31 13:34:00-04:00   -0.035095\n2020-08-31 13:35:00-04:00    0.015091\n2020-08-31 13:36:00-04:00   -0.109192\n2020-08-31 13:37:00-04:00    0.059189\n2020-08-31 13:38:00-04:00    0.065002\n2020-08-31 13:39:00-04:00    0.029999\n2020-08-31 13:40:00-04:00    0.119904\n2020-08-31 13:41:00-04:00   -0.040894\n2020-08-31 13:42:00-04:00    0.010986\n2020-08-31 13:43:00-04:00    0.000000\n2020-08-31 13:44:00-04:00    0.093307\n2020-08-31 13:45:00-04:00    0.111694\n2020-08-31 13:46:00-04:00    0.010010\n2020-08-31 13:47:00-04:00    0.125000\n2020-08-31 13:48:00-04:00    0.009995\n2020-08-31 13:49:00-04:00    0.074997\n2020-08-31 13:50:00-04:00   -0.043991\n2020-08-31 13:51:00-04:00   -0.106003\n2020-08-31 13:52:00-04:00    0.005005\n2020-08-31 13:53:00-04:00   -0.060013\n2020-08-31 13:54:00-04:00   -0.005295\n2020-08-31 13:55:00-04:00    0.105301\n2020-08-31 13:56:00-04:00   -0.009995\n2020-08-31 13:57:00-04:00   -0.080002\n2020-08-31 13:58:00-04:00    0.059998\n2020-08-31 13:59:00-04:00   -0.139999\n2020-08-31 14:00:00-04:00   -0.039902\n2020-08-31 14:01:45-04:00         NaN\nName: PriceDiff, Length: 272, dtype: float64\n"
    }
   ],
   "source": [
    "#Run this code to display the price difference of Microsoft on 2015-01-05\n",
    "print(ms['PriceDiff'].loc['2020-08-31'])"
   ]
  },
  {
   "cell_type": "markdown",
   "metadata": {},
   "source": [
    "** Expected Output: ** -0.68"
   ]
  },
  {
   "cell_type": "markdown",
   "metadata": {},
   "source": [
    "## Create a new column in the DataFrame (2) - Daily return\n",
    "\n",
    "Daily Return is calcuated as PriceDiff/Close"
   ]
  },
  {
   "cell_type": "code",
   "execution_count": 28,
   "metadata": {
    "collapsed": true
   },
   "outputs": [],
   "source": [
    "#Create a new column Return in the DataFrame fb\n",
    "fb['Return'] = fb['PriceDiff'] /fb['Close']"
   ]
  },
  {
   "cell_type": "code",
   "execution_count": 29,
   "metadata": {
    "collapsed": true
   },
   "outputs": [],
   "source": [
    "#Your turn to create a new column Return in the DataFrame MS\n",
    "ms['Return'] = ms['PriceDiff'] /ms['Close']"
   ]
  },
  {
   "cell_type": "code",
   "execution_count": 31,
   "metadata": {
    "tags": []
   },
   "outputs": [
    {
     "output_type": "stream",
     "name": "stdout",
     "text": "Datetime\n2020-08-31 09:30:00-04:00    0.002270\n2020-08-31 09:31:00-04:00    0.000386\n2020-08-31 09:32:00-04:00    0.002872\n2020-08-31 09:33:00-04:00   -0.002635\n2020-08-31 09:34:00-04:00   -0.001582\n2020-08-31 09:35:00-04:00    0.001006\n2020-08-31 09:36:00-04:00    0.001670\n2020-08-31 09:37:00-04:00    0.000601\n2020-08-31 09:38:00-04:00   -0.000812\n2020-08-31 09:39:00-04:00    0.002459\n2020-08-31 09:40:00-04:00    0.001271\n2020-08-31 09:41:00-04:00   -0.002581\n2020-08-31 09:42:00-04:00   -0.001053\n2020-08-31 09:43:00-04:00    0.001151\n2020-08-31 09:44:00-04:00   -0.000140\n2020-08-31 09:45:00-04:00   -0.001579\n2020-08-31 09:46:00-04:00    0.000571\n2020-08-31 09:47:00-04:00   -0.000307\n2020-08-31 09:48:00-04:00    0.001933\n2020-08-31 09:49:00-04:00   -0.002981\n2020-08-31 09:50:00-04:00    0.001187\n2020-08-31 09:51:00-04:00   -0.000637\n2020-08-31 09:52:00-04:00   -0.000374\n2020-08-31 09:53:00-04:00   -0.000473\n2020-08-31 09:54:00-04:00   -0.000429\n2020-08-31 09:55:00-04:00   -0.000154\n2020-08-31 09:56:00-04:00   -0.000132\n2020-08-31 09:57:00-04:00   -0.000088\n2020-08-31 09:58:00-04:00    0.000924\n2020-08-31 09:59:00-04:00    0.001473\n                               ...   \n2020-08-31 13:32:00-04:00    0.000266\n2020-08-31 13:33:00-04:00   -0.000466\n2020-08-31 13:34:00-04:00   -0.000156\n2020-08-31 13:35:00-04:00    0.000067\n2020-08-31 13:36:00-04:00   -0.000485\n2020-08-31 13:37:00-04:00    0.000263\n2020-08-31 13:38:00-04:00    0.000289\n2020-08-31 13:39:00-04:00    0.000133\n2020-08-31 13:40:00-04:00    0.000532\n2020-08-31 13:41:00-04:00   -0.000181\n2020-08-31 13:42:00-04:00    0.000049\n2020-08-31 13:43:00-04:00    0.000000\n2020-08-31 13:44:00-04:00    0.000414\n2020-08-31 13:45:00-04:00    0.000495\n2020-08-31 13:46:00-04:00    0.000044\n2020-08-31 13:47:00-04:00    0.000554\n2020-08-31 13:48:00-04:00    0.000044\n2020-08-31 13:49:00-04:00    0.000332\n2020-08-31 13:50:00-04:00   -0.000195\n2020-08-31 13:51:00-04:00   -0.000469\n2020-08-31 13:52:00-04:00    0.000022\n2020-08-31 13:53:00-04:00   -0.000266\n2020-08-31 13:54:00-04:00   -0.000023\n2020-08-31 13:55:00-04:00    0.000467\n2020-08-31 13:56:00-04:00   -0.000044\n2020-08-31 13:57:00-04:00   -0.000354\n2020-08-31 13:58:00-04:00    0.000266\n2020-08-31 13:59:00-04:00   -0.000620\n2020-08-31 14:00:00-04:00   -0.000177\n2020-08-31 14:01:45-04:00         NaN\nName: Return, Length: 272, dtype: float64\n"
    }
   ],
   "source": [
    "#Run this code to print the return on 2015-01-05\n",
    "print(ms['Return'].loc['2020-08-31'])"
   ]
  },
  {
   "cell_type": "markdown",
   "metadata": {},
   "source": [
    "** Expected Output: ** -0.0146773142811"
   ]
  },
  {
   "cell_type": "markdown",
   "metadata": {},
   "source": [
    "## Create a new column in the DataFrame using List Comprehension - Direction"
   ]
  },
  {
   "cell_type": "code",
   "execution_count": 32,
   "metadata": {
    "collapsed": true
   },
   "outputs": [],
   "source": [
    "#Create a new column Direction. \n",
    "#The List Comprehension means : if the price difference is larger than 0, denote as 1, otherwise, denote as 0,\n",
    "#for every record in the DataFrame - fb\n",
    "\n",
    "fb['Direction'] = [1 if fb['PriceDiff'].loc[ei] > 0 else 0 for ei in fb.index ]"
   ]
  },
  {
   "cell_type": "code",
   "execution_count": 33,
   "metadata": {
    "collapsed": true
   },
   "outputs": [],
   "source": [
    "# Your turn to create a new column Direction for MS\n",
    "\n",
    "ms['Direction'] = [1 if ms['PriceDiff'].loc[ei] > 0 else 0 for ei in ms.index ]"
   ]
  },
  {
   "cell_type": "code",
   "execution_count": 35,
   "metadata": {
    "tags": []
   },
   "outputs": [
    {
     "output_type": "stream",
     "name": "stdout",
     "text": "Price difference on 2020-08-31 is Datetime\n2020-08-31 09:30:00-04:00    0.514999\n2020-08-31 09:31:00-04:00    0.087799\n2020-08-31 09:32:00-04:00    0.653198\n2020-08-31 09:33:00-04:00   -0.600998\n2020-08-31 09:34:00-04:00   -0.360001\n2020-08-31 09:35:00-04:00    0.228394\n2020-08-31 09:36:00-04:00    0.379807\n2020-08-31 09:37:00-04:00    0.136795\n2020-08-31 09:38:00-04:00   -0.184998\n2020-08-31 09:39:00-04:00    0.559998\n2020-08-31 09:40:00-04:00    0.290009\n2020-08-31 09:41:00-04:00   -0.589996\n2020-08-31 09:42:00-04:00   -0.240005\n2020-08-31 09:43:00-04:00    0.261993\n2020-08-31 09:44:00-04:00   -0.031998\n2020-08-31 09:45:00-04:00   -0.360001\n2020-08-31 09:46:00-04:00    0.130005\n2020-08-31 09:47:00-04:00   -0.070007\n2020-08-31 09:48:00-04:00    0.440002\n2020-08-31 09:49:00-04:00   -0.679993\n2020-08-31 09:50:00-04:00    0.269989\n2020-08-31 09:51:00-04:00   -0.144989\n2020-08-31 09:52:00-04:00   -0.085007\n2020-08-31 09:53:00-04:00   -0.107498\n2020-08-31 09:54:00-04:00   -0.097504\n2020-08-31 09:55:00-04:00   -0.034988\n2020-08-31 09:56:00-04:00   -0.030014\n2020-08-31 09:57:00-04:00   -0.019989\n2020-08-31 09:58:00-04:00    0.209991\n2020-08-31 09:59:00-04:00    0.335007\n                               ...   \n2020-08-31 13:32:00-04:00    0.059998\n2020-08-31 13:33:00-04:00   -0.104996\n2020-08-31 13:34:00-04:00   -0.035095\n2020-08-31 13:35:00-04:00    0.015091\n2020-08-31 13:36:00-04:00   -0.109192\n2020-08-31 13:37:00-04:00    0.059189\n2020-08-31 13:38:00-04:00    0.065002\n2020-08-31 13:39:00-04:00    0.029999\n2020-08-31 13:40:00-04:00    0.119904\n2020-08-31 13:41:00-04:00   -0.040894\n2020-08-31 13:42:00-04:00    0.010986\n2020-08-31 13:43:00-04:00    0.000000\n2020-08-31 13:44:00-04:00    0.093307\n2020-08-31 13:45:00-04:00    0.111694\n2020-08-31 13:46:00-04:00    0.010010\n2020-08-31 13:47:00-04:00    0.125000\n2020-08-31 13:48:00-04:00    0.009995\n2020-08-31 13:49:00-04:00    0.074997\n2020-08-31 13:50:00-04:00   -0.043991\n2020-08-31 13:51:00-04:00   -0.106003\n2020-08-31 13:52:00-04:00    0.005005\n2020-08-31 13:53:00-04:00   -0.060013\n2020-08-31 13:54:00-04:00   -0.005295\n2020-08-31 13:55:00-04:00    0.105301\n2020-08-31 13:56:00-04:00   -0.009995\n2020-08-31 13:57:00-04:00   -0.080002\n2020-08-31 13:58:00-04:00    0.059998\n2020-08-31 13:59:00-04:00   -0.139999\n2020-08-31 14:00:00-04:00   -0.039902\n2020-08-31 14:01:45-04:00         NaN\nName: PriceDiff, Length: 272, dtype: float64. direction is Datetime\n2020-08-31 09:30:00-04:00    1\n2020-08-31 09:31:00-04:00    1\n2020-08-31 09:32:00-04:00    1\n2020-08-31 09:33:00-04:00    0\n2020-08-31 09:34:00-04:00    0\n2020-08-31 09:35:00-04:00    1\n2020-08-31 09:36:00-04:00    1\n2020-08-31 09:37:00-04:00    1\n2020-08-31 09:38:00-04:00    0\n2020-08-31 09:39:00-04:00    1\n2020-08-31 09:40:00-04:00    1\n2020-08-31 09:41:00-04:00    0\n2020-08-31 09:42:00-04:00    0\n2020-08-31 09:43:00-04:00    1\n2020-08-31 09:44:00-04:00    0\n2020-08-31 09:45:00-04:00    0\n2020-08-31 09:46:00-04:00    1\n2020-08-31 09:47:00-04:00    0\n2020-08-31 09:48:00-04:00    1\n2020-08-31 09:49:00-04:00    0\n2020-08-31 09:50:00-04:00    1\n2020-08-31 09:51:00-04:00    0\n2020-08-31 09:52:00-04:00    0\n2020-08-31 09:53:00-04:00    0\n2020-08-31 09:54:00-04:00    0\n2020-08-31 09:55:00-04:00    0\n2020-08-31 09:56:00-04:00    0\n2020-08-31 09:57:00-04:00    0\n2020-08-31 09:58:00-04:00    1\n2020-08-31 09:59:00-04:00    1\n                            ..\n2020-08-31 13:32:00-04:00    1\n2020-08-31 13:33:00-04:00    0\n2020-08-31 13:34:00-04:00    0\n2020-08-31 13:35:00-04:00    1\n2020-08-31 13:36:00-04:00    0\n2020-08-31 13:37:00-04:00    1\n2020-08-31 13:38:00-04:00    1\n2020-08-31 13:39:00-04:00    1\n2020-08-31 13:40:00-04:00    1\n2020-08-31 13:41:00-04:00    0\n2020-08-31 13:42:00-04:00    1\n2020-08-31 13:43:00-04:00    0\n2020-08-31 13:44:00-04:00    1\n2020-08-31 13:45:00-04:00    1\n2020-08-31 13:46:00-04:00    1\n2020-08-31 13:47:00-04:00    1\n2020-08-31 13:48:00-04:00    1\n2020-08-31 13:49:00-04:00    1\n2020-08-31 13:50:00-04:00    0\n2020-08-31 13:51:00-04:00    0\n2020-08-31 13:52:00-04:00    1\n2020-08-31 13:53:00-04:00    0\n2020-08-31 13:54:00-04:00    0\n2020-08-31 13:55:00-04:00    1\n2020-08-31 13:56:00-04:00    0\n2020-08-31 13:57:00-04:00    0\n2020-08-31 13:58:00-04:00    1\n2020-08-31 13:59:00-04:00    0\n2020-08-31 14:00:00-04:00    0\n2020-08-31 14:01:45-04:00    0\nName: Direction, Length: 272, dtype: int64\n"
    }
   ],
   "source": [
    "# Run the following code to show the price difference on 2015-01-05\n",
    "print('Price difference on {} is {}. direction is {}'.format('2020-08-31', ms['PriceDiff'].loc['2020-08-31'], ms['Direction'].loc['2020-08-31']))"
   ]
  },
  {
   "cell_type": "markdown",
   "metadata": {},
   "source": [
    "** Expected Output: ** Price difference on 2015-01-05 is -0.6799999999999997. direction is 0"
   ]
  },
  {
   "cell_type": "markdown",
   "metadata": {},
   "source": [
    "## Create a new column in the DataFrame using Rolling Window calculation (.rolling()) - Moving average"
   ]
  },
  {
   "cell_type": "code",
   "execution_count": 12,
   "metadata": {},
   "outputs": [
    {
     "output_type": "error",
     "ename": "NameError",
     "evalue": "name 'fb' is not defined",
     "traceback": [
      "\u001b[1;31m---------------------------------------------------------------------------\u001b[0m",
      "\u001b[1;31mNameError\u001b[0m                                 Traceback (most recent call last)",
      "\u001b[1;32m<ipython-input-12-fec59b98b792>\u001b[0m in \u001b[0;36m<module>\u001b[1;34m\u001b[0m\n\u001b[1;32m----> 1\u001b[1;33m \u001b[0mfb\u001b[0m\u001b[1;33m[\u001b[0m\u001b[1;34m'ma50'\u001b[0m\u001b[1;33m]\u001b[0m \u001b[1;33m=\u001b[0m \u001b[0mfb\u001b[0m\u001b[1;33m[\u001b[0m\u001b[1;34m'Close'\u001b[0m\u001b[1;33m]\u001b[0m\u001b[1;33m.\u001b[0m\u001b[0mrolling\u001b[0m\u001b[1;33m(\u001b[0m\u001b[1;36m50\u001b[0m\u001b[1;33m)\u001b[0m\u001b[1;33m.\u001b[0m\u001b[0mmean\u001b[0m\u001b[1;33m(\u001b[0m\u001b[1;33m)\u001b[0m\u001b[1;33m\u001b[0m\u001b[1;33m\u001b[0m\u001b[0m\n\u001b[0m\u001b[0;32m      2\u001b[0m \u001b[1;33m\u001b[0m\u001b[0m\n\u001b[0;32m      3\u001b[0m \u001b[1;31m#plot the moving average\u001b[0m\u001b[1;33m\u001b[0m\u001b[1;33m\u001b[0m\u001b[1;33m\u001b[0m\u001b[0m\n\u001b[0;32m      4\u001b[0m \u001b[0mplt\u001b[0m\u001b[1;33m.\u001b[0m\u001b[0mfigure\u001b[0m\u001b[1;33m(\u001b[0m\u001b[0mfigsize\u001b[0m\u001b[1;33m=\u001b[0m\u001b[1;33m(\u001b[0m\u001b[1;36m10\u001b[0m\u001b[1;33m,\u001b[0m \u001b[1;36m8\u001b[0m\u001b[1;33m)\u001b[0m\u001b[1;33m)\u001b[0m\u001b[1;33m\u001b[0m\u001b[1;33m\u001b[0m\u001b[0m\n\u001b[0;32m      5\u001b[0m \u001b[0mfb\u001b[0m\u001b[1;33m[\u001b[0m\u001b[1;34m'ma50'\u001b[0m\u001b[1;33m]\u001b[0m\u001b[1;33m.\u001b[0m\u001b[0mloc\u001b[0m\u001b[1;33m[\u001b[0m\u001b[1;34m'2015-01-01'\u001b[0m\u001b[1;33m:\u001b[0m\u001b[1;34m'2015-12-31'\u001b[0m\u001b[1;33m]\u001b[0m\u001b[1;33m.\u001b[0m\u001b[0mplot\u001b[0m\u001b[1;33m(\u001b[0m\u001b[0mlabel\u001b[0m\u001b[1;33m=\u001b[0m\u001b[1;34m'MA50'\u001b[0m\u001b[1;33m)\u001b[0m\u001b[1;33m\u001b[0m\u001b[1;33m\u001b[0m\u001b[0m\n",
      "\u001b[1;31mNameError\u001b[0m: name 'fb' is not defined"
     ]
    }
   ],
   "source": [
    "fb['ma50'] = fb['Close'].rolling(50).mean()\n",
    "\n",
    "#plot the moving average\n",
    "plt.figure(figsize=(10, 8))\n",
    "fb['ma50'].loc['2015-01-01':'2015-12-31'].plot(label='MA50')\n",
    "fb['Close'].loc['2015-01-01':'2015-12-31'].plot(label='Close')\n",
    "plt.legend()\n",
    "plt.show()"
   ]
  },
  {
   "cell_type": "code",
   "execution_count": 13,
   "metadata": {},
   "outputs": [
    {
     "output_type": "error",
     "ename": "NameError",
     "evalue": "name 'ms' is not defined",
     "traceback": [
      "\u001b[1;31m---------------------------------------------------------------------------\u001b[0m",
      "\u001b[1;31mNameError\u001b[0m                                 Traceback (most recent call last)",
      "\u001b[1;32m<ipython-input-13-0ff5ab07d090>\u001b[0m in \u001b[0;36m<module>\u001b[1;34m\u001b[0m\n\u001b[0;32m      2\u001b[0m \u001b[1;31m# moving average of Microsoft, rename it as \"ma60\". And follow the codes above in plotting a graph\u001b[0m\u001b[1;33m\u001b[0m\u001b[1;33m\u001b[0m\u001b[1;33m\u001b[0m\u001b[0m\n\u001b[0;32m      3\u001b[0m \u001b[1;33m\u001b[0m\u001b[0m\n\u001b[1;32m----> 4\u001b[1;33m \u001b[0mms\u001b[0m\u001b[1;33m[\u001b[0m\u001b[1;34m'ma60'\u001b[0m\u001b[1;33m]\u001b[0m \u001b[1;33m=\u001b[0m \u001b[0mms\u001b[0m\u001b[1;33m[\u001b[0m\u001b[1;34m'Close'\u001b[0m\u001b[1;33m]\u001b[0m\u001b[1;33m.\u001b[0m\u001b[0mrolling\u001b[0m\u001b[1;33m(\u001b[0m\u001b[1;36m50\u001b[0m\u001b[1;33m)\u001b[0m\u001b[1;33m.\u001b[0m\u001b[0mmean\u001b[0m\u001b[1;33m(\u001b[0m\u001b[1;33m)\u001b[0m\u001b[1;33m\u001b[0m\u001b[1;33m\u001b[0m\u001b[0m\n\u001b[0m\u001b[0;32m      5\u001b[0m \u001b[1;33m\u001b[0m\u001b[0m\n\u001b[0;32m      6\u001b[0m \u001b[1;31m#plot the moving average\u001b[0m\u001b[1;33m\u001b[0m\u001b[1;33m\u001b[0m\u001b[1;33m\u001b[0m\u001b[0m\n",
      "\u001b[1;31mNameError\u001b[0m: name 'ms' is not defined"
     ]
    }
   ],
   "source": [
    "# You can use .rolling() to calculate any numbers of days' Moving Average. This is your turn to calculate \"60 days\"\n",
    "# moving average of Microsoft, rename it as \"ma60\". And follow the codes above in plotting a graph\n",
    "\n",
    "ms['ma60'] = ms['Close'].rolling(50).mean()\n",
    "\n",
    "#plot the moving average\n",
    "plt.figure(figsize=(10, 8))\n",
    "ms['ma60'].loc['2015-01-01':'2015-12-31'].plot(label='MA60')\n",
    "ms['Close'].loc['2015-01-01':'2015-12-31'].plot(label='Close')\n",
    "plt.legend()\n",
    "plt.show()"
   ]
  },
  {
   "cell_type": "markdown",
   "metadata": {},
   "source": [
    "** Expected Output: **"
   ]
  },
  {
   "cell_type": "markdown",
   "metadata": {},
   "source": [
    "<img src=\"MA.png\">"
   ]
  }
 ],
 "metadata": {
  "kernelspec": {
   "display_name": "Python 3",
   "language": "python",
   "name": "python3"
  },
  "language_info": {
   "codemirror_mode": {
    "name": "ipython",
    "version": 3
   },
   "file_extension": ".py",
   "mimetype": "text/x-python",
   "name": "python",
   "nbconvert_exporter": "python",
   "pygments_lexer": "ipython3",
   "version": "3.7.3-final"
  }
 },
 "nbformat": 4,
 "nbformat_minor": 2
}